{
 "cells": [
  {
   "cell_type": "markdown",
   "metadata": {},
   "source": [
    "# Arthur Giusti Dal Bosco \n"
   ]
  },
  {
   "cell_type": "markdown",
   "metadata": {
    "id": "_UB4Al1_bo7S"
   },
   "source": [
    "Considere o artigo:\n",
    "```python\n",
    "Bloice, M.D., Holzinger, A. (2016). A Tutorial on Machine Learning and Data Science Tools with Python.\n",
    "```\n",
    "In: Holzinger, A. (eds) Machine Learning for Health Informatics.<br> Lecture Notes in Computer Science(), vol 9605. Springer, Cham. <br>https://doi.org/10.1007/978-3-319-50478-0_22\n",
    "\n"
   ]
  },
  {
   "cell_type": "markdown",
   "metadata": {
    "id": "QFMnFkBTdFWP"
   },
   "source": [
    "\n",
    "Utilizando as bibliotecas `PyMuPDF` e `Regex`, faça a extração do texto e apresente todas as **URLs** presentes no artigo."
   ]
  },
  {
   "cell_type": "markdown",
   "metadata": {
    "id": "imQqn0MR1yMy"
   },
   "source": [
    "Acesso ao Formulário para envio do código:\n",
    "* https://forms.gle/D54GFxjB8s6ZqkPo9"
   ]
  },
  {
   "cell_type": "code",
   "execution_count": 1,
   "metadata": {},
   "outputs": [
    {
     "name": "stdout",
     "output_type": "stream",
     "text": [
      "Requirement already satisfied: pymupdf in c:\\users\\arthur.bosco\\appdata\\local\\anaconda3\\envs\\python3-9-20\\lib\\site-packages (1.24.14)\n"
     ]
    }
   ],
   "source": [
    "!pip install pymupdf\n",
    "\n"
   ]
  },
  {
   "cell_type": "code",
   "execution_count": 2,
   "metadata": {},
   "outputs": [],
   "source": [
    "import fitz  # PyMuPDF\n",
    "import re\n"
   ]
  },
  {
   "cell_type": "code",
   "execution_count": 3,
   "metadata": {},
   "outputs": [],
   "source": [
    "arquivo_pdf = \"artigoAtividade2.pdf\""
   ]
  },
  {
   "cell_type": "code",
   "execution_count": 4,
   "metadata": {},
   "outputs": [
    {
     "name": "stdout",
     "output_type": "stream",
     "text": [
      "No PDF há 19 URLs encontradas:\n",
      "https://github.com/mdbloice/MLDS\n",
      "http://topepo.github.io/caret/index.html.\n",
      "https://www.continuum.io/downloads\n",
      "https://www.continuum.io/downloads.\n",
      "http://localhost:8888/).\n",
      "http://mathesaurus.sourceforge.net/matlab-numpy.html.\n",
      "http://www.scipy-lectures.org/\n",
      "http://pandas.pydata.org/pandas-docs/stable/missing\n",
      "http://www.scipy-lectures.org/.\n",
      "http://pandas.\n",
      "http://scikit-learn.org/stable/documentation.html.\n",
      "https://twitter.com/fchollet/status/\n",
      "http://torch.ch/docs/getting-started.html\n",
      "https://www.tensorﬂow.org/get\n",
      "http://www.cancer.gov)/Indiana\n",
      "https://visualsonline.cancer.gov/details.cfm?\n",
      "http://augmentor.readthedocs.io.\n",
      "http://augmentorjl.readthedocs.io.\n",
      "http://cacm.acm.org/blogs/blog-cacm/176450-\n"
     ]
    }
   ],
   "source": [
    "# pega texto\n",
    "texto = \"\"\n",
    "with fitz.open(arquivo_pdf) as pdf:\n",
    "    for pagina in pdf:\n",
    "        texto += pagina.get_text()\n",
    "\n",
    "#remove quebra linha\n",
    "texto_processado = texto.replace(\"\\n\", \" \")\n",
    "\n",
    "#padrao = r\"https?://[^\\s]+\"\n",
    "#padrao = r\"https?://[^\\s]+(?:[a-zA-Z0-9/\\-_.]+)?\"\n",
    "padrao = r\"https?://[\\w]+[^\\s]+\"\n",
    "\n",
    "urls_encontradas = re.findall(padrao, texto_processado)\n",
    "\n",
    "quantidade_urls = len(urls_encontradas)\n",
    "\n",
    "\n",
    "\n",
    "\n",
    "print(f\"No PDF há {quantidade_urls} URLs encontradas:\")\n",
    "for url in urls_encontradas:\n",
    "    print(url)"
   ]
  }
 ],
 "metadata": {
  "colab": {
   "provenance": []
  },
  "kernelspec": {
   "display_name": "python3-9-20",
   "language": "python",
   "name": "python3"
  },
  "language_info": {
   "codemirror_mode": {
    "name": "ipython",
    "version": 3
   },
   "file_extension": ".py",
   "mimetype": "text/x-python",
   "name": "python",
   "nbconvert_exporter": "python",
   "pygments_lexer": "ipython3",
   "version": "3.9.20"
  }
 },
 "nbformat": 4,
 "nbformat_minor": 0
}
